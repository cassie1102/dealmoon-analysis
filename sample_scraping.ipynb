{
 "cells": [
  {
   "cell_type": "code",
   "execution_count": 1,
   "metadata": {},
   "outputs": [],
   "source": [
    "from urllib.request import urlopen\n",
    "from bs4 import BeautifulSoup \n",
    "import requests\n",
    "import urllib\n",
    "import unicodecsv as csv\n",
    "# import re\n",
    "# import scrapy"
   ]
  },
  {
   "cell_type": "code",
   "execution_count": 2,
   "metadata": {},
   "outputs": [],
   "source": [
    "# Storage List Initialization\n",
    "Title, When, Apply_Degree, Result_Type, Apply_Major, Apply_College = [], [], [], [], [], []\n",
    "Result_Time, U_Major, U_Level, G_Major, G_Level, Link_Page = [], [], [], [], [], []\n",
    "\n",
    "# Iterative Collection on Each Div of Page 2 to Page 17\n",
    "for page in range(8):  \n",
    "    url = 'https://www.1point3acres.com/bbs/forum.php?mod=forumdisplay&fid=82&sortid=164&searchoption[3004][value]=4&searchoption[3004][type]=radio&searchoption[3001][value]=7&searchoption[3001][type]=radio&searchoption[3002][value]=2&searchoption[3002][type]=radio&filter=sortid&sortid=164&orderby=dateline&page=%d' %(page+2)\n",
    "    hdr = { 'User-Agent' : 'Mozilla/5.0 (Windows NT 6.1; Win64; x64)' }\n",
    "\n",
    "    req = urllib.request.Request(url, headers=hdr)\n",
    "    response = urllib.request.urlopen(req)\n",
    "    \n",
    "    bs = BeautifulSoup(response.read(), 'html.parser')\n",
    "    for i in bs.find_all(id='threadlist')[0].find_all('table',{'summary':'forum_82'})[0].find_all('tbody'):\n",
    "        if i['id'] == 'separatorline': \n",
    "            continue\n",
    "        Title.append(i.find('a', {'class':'s xst'}).get_text()) # Title\n",
    "        When.append(i.find('font', {'color':'#666'}).get_text()[1:])# When apply\n",
    "        Apply_Degree.append(i.find('font', {'color':'blue'}).get_text()) # Apply Degree\n",
    "        Result_Type.append(i.find('font', {'color':'black'}).get_text()[:-1]) # Result Type\n",
    "        Apply_Major.append(i.find('font', {'color':'#F60'}).get_text())  # Apply Major\n",
    "        Apply_College.append(i.find('font', {'color':'#00B2E8'}).get_text()) # Apply College\n",
    "        Result_Time.append(i.find('font', {'color':'brown'}).get_text()) # Result Time\n",
    "        U_Major.append(i.find('font', {'color':'green'}).get_text()) # Undergraduate Major\n",
    "        U_Level.append(i.find('font', {'color':'purple'}).get_text()) # Undergraduate Level\n",
    "        G_Major.append(i.find('font', {'color':'hotpink'}).get_text()) # Graduate Major\n",
    "        G_Level.append(i.find_all('font', {'color':'brown'})[1].get_text()) # Graduate Level\n",
    "        Link_Page.append('https://www.1point3acres.com/bbs/%s' %i.find('a', {'class':'s xst'})['href']) # Link Page"
   ]
  },
  {
   "cell_type": "code",
   "execution_count": null,
   "metadata": {},
   "outputs": [],
   "source": [
    "with open('apply_or_data_15year.csv', mode='wb') as apply_file:\n",
    "    apply_writer = csv.writer(apply_file, encoding='utf-8', delimiter=',')\n",
    "    \n",
    "    for x in zip(Title, When, Apply_Degree, Result_Type, Apply_Major, Apply_College, Result_Time, U_Major, U_Level, G_Major, G_Level, Link_Page):\n",
    "        apply_writer.writerow(x)"
   ]
  }
 ],
 "metadata": {
  "kernelspec": {
   "display_name": "Python 3",
   "language": "python",
   "name": "python3"
  },
  "language_info": {
   "codemirror_mode": {
    "name": "ipython",
    "version": 3
   },
   "file_extension": ".py",
   "mimetype": "text/x-python",
   "name": "python",
   "nbconvert_exporter": "python",
   "pygments_lexer": "ipython3",
   "version": "3.7.6"
  }
 },
 "nbformat": 4,
 "nbformat_minor": 4
}
